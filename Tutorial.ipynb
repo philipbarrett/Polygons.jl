{
 "cells": [
  {
   "cell_type": "markdown",
   "metadata": {},
   "source": [
    "# Using `Polygons` for game theory: A tutorial\n",
    "\n",
    "In this notebook, we introduce the Polygons class and show how it can be used to compute equilibrium sets of repeated games."
   ]
  },
  {
   "cell_type": "markdown",
   "metadata": {},
   "source": [
    "## Set up\n",
    "\n",
    "Currently the package is not available through the Julia package distribution system.  To download and use the package, run the following from the command line:\n",
    "\n",
    "```sh\n",
    "cd ~/.julia/v0.x/\n",
    "git clone git@github.com:squipbar/Polygons.jl.git\n",
    "```\n",
    "\n",
    "Where `~` is your home directory, and `v0.x` is the version of julia that you are using.\n",
    "\n",
    "## Defining polygon objects\n",
    "\n",
    "The `Polygon` class stores a polygon object is two ways.  First, as a collection of vertices, `pts`.  This is not a terribly helpful representation, mathematically speaking, and is useful mostly for visualizing the object.  The second representation is the normal-distance representation of the sides of the polygon.  The is a mathematially useful object.  If $G$ is an $n\\times2$ matrix of vor-vector normals $G_i$ of the polygon faces, and $m$ is a length-$n$ vector of distances, then the point $z\\in\\mathbb R^2$ is inside the polygon if:\n",
    "\n",
    "$$ G_i z \\le m_i \\ \\forall \\ i = 1, \\ldots, n$$\n",
    "\n",
    "Ths representation is stored inside the `Polygon` class via the terms `dirs` (for $G$) and `dists` (for $m$).\n",
    "\n",
    "Let's define our first polygons:"
   ]
  },
  {
   "cell_type": "code",
   "execution_count": 1,
   "metadata": {
    "collapsed": false
   },
   "outputs": [],
   "source": [
    "using Polygons"
   ]
  },
  {
   "cell_type": "code",
   "execution_count": 2,
   "metadata": {
    "collapsed": false
   },
   "outputs": [
    {
     "data": {
      "text/plain": [
       "Polygons.Polygon(4x2 Array{Float64,2}:\n",
       "  1.0   1.0\n",
       " -1.0   1.0\n",
       " -1.0  -1.0\n",
       "  1.0  -1.0,4x2 Array{Float64,2}:\n",
       "  1.0   0.0\n",
       "  0.0   1.0\n",
       " -1.0   0.0\n",
       "  0.0  -1.0,[1.0,1.0,1.0,1.0])"
      ]
     },
     "execution_count": 2,
     "metadata": {},
     "output_type": "execute_result"
    }
   ],
   "source": [
    "Z = [ 1 -1; 1 1; -1 1; -1 -1 ]\n",
    "G = [ 1 0; 0 1; -1 0; 0 -1 ]\n",
    "m = [ 1, 1, 1, 1 ]\n",
    "a = Polygon( Z, G, m )\n",
    "b = Polygon( pts=Z ) ;\n",
    "c = Polygon( dirs=G, dists=m ) ;"
   ]
  },
  {
   "cell_type": "markdown",
   "metadata": {},
   "source": [
    "Because the class constructors standardize the polygon representation (points and normals are ordered anti-clockwise starting at lowest point, normals are unit-length), then we can throw badly-formed representations at the constructors and still preserve equality."
   ]
  },
  {
   "cell_type": "code",
   "execution_count": null,
   "metadata": {
    "collapsed": true
   },
   "outputs": [],
   "source": [
    "badZ = Z[ [1, 3, 4, 2], : ]\n",
    "d = Polygon(pts=badZ)"
   ]
  }
 ],
 "metadata": {
  "kernelspec": {
   "display_name": "Julia 0.4.5",
   "language": "julia",
   "name": "julia-0.4"
  },
  "language_info": {
   "file_extension": ".jl",
   "mimetype": "application/julia",
   "name": "julia",
   "version": "0.4.5"
  }
 },
 "nbformat": 4,
 "nbformat_minor": 0
}
